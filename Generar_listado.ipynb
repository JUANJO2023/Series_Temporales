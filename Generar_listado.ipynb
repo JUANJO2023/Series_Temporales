{
  "nbformat": 4,
  "nbformat_minor": 0,
  "metadata": {
    "colab": {
      "provenance": []
    },
    "kernelspec": {
      "name": "python3",
      "display_name": "Python 3"
    },
    "language_info": {
      "name": "python"
    }
  },
  "cells": [
    {
      "cell_type": "code",
      "source": [
        "import requests\n",
        "import os\n",
        "import pandas as pd"
      ],
      "metadata": {
        "id": "B3XvWrOXYN7p"
      },
      "execution_count": 1,
      "outputs": []
    },
    {
      "cell_type": "code",
      "execution_count": 2,
      "metadata": {
        "id": "P-S4rsLiWcFn"
      },
      "outputs": [],
      "source": [
        "\n",
        "#Obtenemos la lista de subcarpetas desde archivo RECORDS\n",
        "records_url = \"https://physionet.org/files/ecg-arrhythmia/1.0.0/RECORDS\"\n",
        "resp = requests.get(records_url)\n",
        "resp.raise_for_status()\n",
        "lines = resp.text.splitlines()\n",
        "\n",
        "#Filtrar las rutas tipo \"WFDBRecords/01/010/\"\n",
        "paths = [line.strip() for line in lines if line.strip().startswith(\"WFDBRecords/\")]\n",
        "\n",
        "file_list = []\n",
        "\n",
        "#Para cada ruta, obtener archivos listados en RECORDS local de ese subdirectorio\n",
        "for p in paths:\n",
        "    url = f\"https://physionet.org/files/ecg-arrhythmia/1.0.0/{p}/RECORDS\"\n",
        "    sub_resp = requests.get(url)\n",
        "    if sub_resp.status_code != 200:\n",
        "        continue  # saltar si no hay RECORDS en ese subdirectorio\n",
        "    entries = sub_resp.text.splitlines()\n",
        "    for rec in entries:\n",
        "        hea_name = f\"{rec}\"\n",
        "        full_url = f\"https://physionet.org/files/ecg-arrhythmia/1.0.0/{p}{hea_name}\"\n",
        "        # Añadimos nombre y ruta\n",
        "        file_list.append((int(hea_name[2:7]),hea_name, full_url))"
      ]
    },
    {
      "cell_type": "code",
      "source": [
        "#Pasar a DataFrame\n",
        "dfListado = pd.DataFrame(file_list, columns=[\"Id\",\"Paciente\", \"Archivo\"])\n",
        "\n",
        "#Guardar a CSV\n",
        "dfListado.to_csv(\"Directorio-ecg.csv\", index=False, encoding=\"utf-8\")\n"
      ],
      "metadata": {
        "id": "pHjd_z-2YABO"
      },
      "execution_count": 3,
      "outputs": []
    }
  ]
}